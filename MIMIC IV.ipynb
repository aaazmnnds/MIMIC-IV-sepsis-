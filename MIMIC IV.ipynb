{
 "cells": [
  {
   "cell_type": "code",
   "execution_count": 13,
   "id": "0d62fcb1-7c92-41d9-91b0-daaf1df38f29",
   "metadata": {},
   "outputs": [
    {
     "name": "stdout",
     "output_type": "stream",
     "text": [
      "Checking files...\n",
      "✓ hosp/patients.csv.gz (0.00 GB)\n",
      "✓ hosp/admissions.csv.gz (0.02 GB)\n",
      "✓ hosp/diagnoses_icd.csv.gz (0.03 GB)\n",
      "✓ hosp/labevents.csv.gz (2.41 GB)\n",
      "✓ icu/icustays.csv.gz (0.00 GB)\n",
      "✓ icu/chartevents.csv.gz (3.26 GB)\n"
     ]
    }
   ],
   "source": [
    "import os\n",
    "\n",
    "MIMIC_PATH = '/Users/azmannads/Downloads/Dr. Zhang/mimic-iv-2.2/'\n",
    "\n",
    "files_to_check = [\n",
    "    'hosp/patients.csv.gz',\n",
    "    'hosp/admissions.csv.gz',\n",
    "    'hosp/diagnoses_icd.csv.gz',\n",
    "    'hosp/labevents.csv.gz',\n",
    "    'icu/icustays.csv.gz',\n",
    "    'icu/chartevents.csv.gz'\n",
    "]\n",
    "\n",
    "print(\"Checking files...\")\n",
    "for file in files_to_check:\n",
    "    full_path = os.path.join(MIMIC_PATH, file)\n",
    "    if os.path.exists(full_path):\n",
    "        size = os.path.getsize(full_path) / (1024**3)\n",
    "        print(f\"✓ {file} ({size:.2f} GB)\")\n",
    "    else:\n",
    "        print(f\"✗ {file} - NOT FOUND\")"
   ]
  },
  {
   "cell_type": "code",
   "execution_count": null,
   "id": "dac83888-d8d5-49c0-857b-846bb4987b19",
   "metadata": {},
   "outputs": [],
   "source": []
  }
 ],
 "metadata": {
  "kernelspec": {
   "display_name": "Python 3 (ipykernel)",
   "language": "python",
   "name": "python3"
  },
  "language_info": {
   "codemirror_mode": {
    "name": "ipython",
    "version": 3
   },
   "file_extension": ".py",
   "mimetype": "text/x-python",
   "name": "python",
   "nbconvert_exporter": "python",
   "pygments_lexer": "ipython3",
   "version": "3.11.5"
  }
 },
 "nbformat": 4,
 "nbformat_minor": 5
}
